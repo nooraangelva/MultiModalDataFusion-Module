{
 "cells": [
  {
   "cell_type": "markdown",
   "metadata": {},
   "source": [
    "Before you turn this problem in, make sure everything runs as expected. First, **restart the kernel** (in the menubar, select Kernel$\\rightarrow$Restart) and then **run all cells** (in the menubar, select Cell$\\rightarrow$Run All).\n",
    "\n",
    "If a variable is given to you, give your answer to that variable. In case of multiple choice questions, answer to the given variable. Make sure your variable has a **string value** and it contains only the letter of your choice. For example if you think that choice b is the correct choice, and the given variable is answer, your answer should look like this:\n",
    "\n",
    "answer = 'b'\n",
    "\n",
    "or \n",
    "\n",
    "answer = 'B'\n",
    "\n",
    "If you need to read a file for a task, datafiles, such as .csv or .txt files are found in data subfolder. This can be accessed using data/filename.extension. In case of image, they are found in subfolder images. \n",
    "\n",
    "Make sure you fill in any place that says `YOUR CODE HERE` or \"YOUR ANSWER HERE\", as well as your name below:"
   ]
  },
  {
   "cell_type": "code",
   "execution_count": 1,
   "metadata": {},
   "outputs": [],
   "source": [
    "NAME = \"Noora Angelva\""
   ]
  },
  {
   "cell_type": "markdown",
   "metadata": {},
   "source": [
    "---"
   ]
  },
  {
   "cell_type": "markdown",
   "metadata": {
    "deletable": false,
    "editable": false,
    "nbgrader": {
     "cell_type": "markdown",
     "checksum": "674eaa354e6a438fd6b847caaaf542ce",
     "grade": false,
     "grade_id": "cell-708d46d3f9180abe",
     "locked": true,
     "schema_version": 3,
     "solution": false
    }
   },
   "source": [
    "# Multimodal Data Fusion - Exercise 6 - Bayesian Decision Theory and Ensemble Learning\n",
    "\n",
    "\n",
    "In this exercise, we will take a closer look at the Bayesian decision theory in pattern classification and in particular naive Bayes classification as a background and then represent ensemble learning."
   ]
  },
  {
   "cell_type": "markdown",
   "metadata": {
    "deletable": false,
    "editable": false,
    "nbgrader": {
     "cell_type": "markdown",
     "checksum": "c233c97ade898f9b856aabb6032c30af",
     "grade": false,
     "grade_id": "cell-32738734cf6f1a4f",
     "locked": true,
     "schema_version": 3,
     "solution": false
    }
   },
   "source": [
    "## Learning goals \n",
    "\n",
    "After this exercise, you should  \n",
    "\n",
    "- be able to apply naive Bayes classifier to typical classification problems\n",
    "- be able to apply ensemble method such as bagging and boosting to combine hypotheses\n",
    "- be able combine classifier output with different approaches for data fusion\n",
    "\n",
    "## Relevant lecture\n",
    "Lecture 7.\n",
    "  \n",
    "## Relevant Sections in course book\n",
    "\n",
    "Chapter 13-14.\n",
    "\n",
    "## Additional Material \n",
    "\n",
    "Naive Bayes: https://scikit-learn.org/stable/modules/naive_bayes.html\n",
    "\n",
    "Adaboost:  https://scikit-learn.org/stable/modules/ensemble.html#adaboost\n",
    "\n",
    "Support vector machines:  https://towardsdatascience.com/support-vector-machine-introduction-to-machine-learning-algorithms-934a444fca47 and  https://scikit-learn.org/stable/modules/svm.html \n",
    "\n",
    "Bagging: https://scikit-learn.org/stable/modules/ensemble.html#bagging-meta-estimator\n"
   ]
  },
  {
   "cell_type": "markdown",
   "metadata": {
    "deletable": false,
    "editable": false,
    "nbgrader": {
     "cell_type": "markdown",
     "checksum": "20e9a8497ff8b22713516bafde8701fc",
     "grade": false,
     "grade_id": "cell-cd6e3fb34c742a18",
     "locked": true,
     "schema_version": 3,
     "solution": false,
     "task": false
    }
   },
   "source": [
    "# Introduction\n",
    "\n",
    "In this exercise, the followig base classifiers are used: Naive Bayes, Adaboost and Support vector machines. In addition, bagging ensemble method is applied.\n",
    "\n",
    "You can find info about the classifiers and their usage from the course book and the additional material."
   ]
  },
  {
   "cell_type": "markdown",
   "metadata": {
    "deletable": false,
    "editable": false,
    "nbgrader": {
     "cell_type": "markdown",
     "checksum": "ee44e58023b40457e58186f7b04ab524",
     "grade": false,
     "grade_id": "cell-81fcd417d1729fac",
     "locked": true,
     "schema_version": 3,
     "solution": false,
     "task": false
    }
   },
   "source": [
    "# 1. Bayesian decision theory"
   ]
  },
  {
   "cell_type": "markdown",
   "metadata": {
    "deletable": false,
    "editable": false,
    "nbgrader": {
     "cell_type": "markdown",
     "checksum": "8f55af73024b7bf6e5b4fb0b38dc4a7d",
     "grade": false,
     "grade_id": "cell-a927fabe2e0702e1",
     "locked": true,
     "schema_version": 3,
     "solution": false,
     "task": false
    }
   },
   "source": [
    "## Tutorial"
   ]
  },
  {
   "cell_type": "markdown",
   "metadata": {
    "deletable": false,
    "editable": false,
    "nbgrader": {
     "cell_type": "markdown",
     "checksum": "42b10838d8c99d57c74d540fa7174b6a",
     "grade": false,
     "grade_id": "cell-1838a4559a0916c6",
     "locked": true,
     "schema_version": 3,
     "solution": false,
     "task": false
    }
   },
   "source": [
    "<div class=\" alert alert-info\">\n",
    "We consider a dataset containing information about animal species. From the full dataset certain columns are selected for classification problem. A separate training set is extracted and summary of it is printed. \n",
    "\n",
    "</div>"
   ]
  },
  {
   "cell_type": "code",
   "execution_count": 2,
   "metadata": {},
   "outputs": [
    {
     "name": "stdout",
     "output_type": "stream",
     "text": [
      "         0   1   2   3   4   5   6   7   8   9   10  11  12  13  14  15  16  \\\n",
      "0  aardvark   1   0   0   1   0   0   1   1   1   1   0   0   4   0   0   1   \n",
      "1  antelope   1   0   0   1   0   0   0   1   1   1   0   0   4   1   0   1   \n",
      "2      bass   0   0   1   0   0   1   1   1   1   0   0   1   0   1   0   0   \n",
      "3      bear   1   0   0   1   0   0   1   1   1   1   0   0   4   0   0   1   \n",
      "4      boar   1   0   0   1   0   0   1   1   1   1   0   0   4   1   0   1   \n",
      "\n",
      "   17  \n",
      "0   1  \n",
      "1   1  \n",
      "2   4  \n",
      "3   1  \n",
      "4   1  \n",
      "        legs  airborne\n",
      "count    100       100\n",
      "unique     3         2\n",
      "top        2         0\n",
      "freq      48        65\n",
      "        class_type\n",
      "count          100\n",
      "unique           2\n",
      "top              1\n",
      "freq            60\n"
     ]
    },
    {
     "name": "stderr",
     "output_type": "stream",
     "text": [
      "/tmp/ipykernel_217024/895656088.py:21: FutureWarning: The frame.append method is deprecated and will be removed from pandas in a future version. Use pandas.concat instead.\n",
      "  data = data.append(data2, ignore_index=True)\n",
      "/tmp/ipykernel_217024/895656088.py:22: FutureWarning: The frame.append method is deprecated and will be removed from pandas in a future version. Use pandas.concat instead.\n",
      "  data = data.append(data3, ignore_index=True)\n"
     ]
    }
   ],
   "source": [
    "import numpy as np\n",
    "import pandas as pd\n",
    "import matplotlib.pyplot as plt\n",
    "\n",
    "data = pd.read_csv(\"http://archive.ics.uci.edu/ml/machine-learning-databases/zoo/zoo.data\", delimiter=\",\", header=None)\n",
    "data2 = pd.read_csv(\"data/zoo2.csv\", delimiter=\",\", header=0)\n",
    "data3 = pd.read_csv(\"data/zoo3.csv\", delimiter=\",\", header=0)\n",
    "\n",
    "\n",
    "print(data.head())\n",
    "\n",
    "#Remove animal names from the data (= first column).\n",
    "data = data.iloc[:,1:18]\n",
    "data2 = data2.iloc[:,1:18]\n",
    "data3 = data3.iloc[:,1:18]\n",
    "\n",
    "#Add column names.legs\n",
    "data.columns = [\"hair\", \"feathers\",\"eggs\",\"milk\",\"airborne\",\"aquatic\",\"predator\",\"toothed\",\"backbone\",\"breathes\",\"venomous\",\n",
    "                \"fins\",\"legs\",\"tail\",\"domestic\",\"catsize\",\"class_type\"]\n",
    "\n",
    "data = data.append(data2, ignore_index=True)\n",
    "data = data.append(data3, ignore_index=True)\n",
    "\n",
    "data = data.astype('category')\n",
    "\n",
    "\n",
    "#Select training data X and training labels y\n",
    "#Let's select columns legs and airborn and classes 1 and 2 (mammals and birds)\n",
    "\n",
    "X = data.loc[(data[\"class_type\"]==2) | (data[\"class_type\"]==1), [\"legs\", \"airborne\"]]\n",
    "y = data.loc[(data[\"class_type\"]==2) | (data[\"class_type\"]==1), [\"class_type\"]]\n",
    "\n",
    "#Look basic info about the data selected.\n",
    "print(X.describe())\n",
    "print(y.describe())"
   ]
  },
  {
   "cell_type": "markdown",
   "metadata": {
    "deletable": false,
    "editable": false,
    "nbgrader": {
     "cell_type": "markdown",
     "checksum": "181f12f8e4da52bb1ff3f487a8864ef1",
     "grade": false,
     "grade_id": "cell-0a55e2d7890e4fe3",
     "locked": true,
     "schema_version": 3,
     "solution": false,
     "task": false
    }
   },
   "source": [
    "<div class=\" alert alert-info\">    \n",
    "Below we continue to process the data and plot it so that marker size presents the number of samples fulfilling the conditions presented by x and y axis. \n",
    "\n",
    "</div>"
   ]
  },
  {
   "cell_type": "code",
   "execution_count": 3,
   "metadata": {},
   "outputs": [
    {
     "data": {
      "image/png": "[encoded data removed]",
      "text/plain": [
       "<Figure size 432x288 with 1 Axes>"
      ]
     },
     "metadata": {
      "needs_background": "light"
     },
     "output_type": "display_data"
    }
   ],
   "source": [
    "#Change the format into numpy-array as that format is needed further instead of dataframe.\n",
    "X = np.array(X)\n",
    "y = np.array(y)\n",
    "\n",
    "#Do a scatter plot of values.\n",
    "\n",
    "fig, ax = plt.subplots()\n",
    "\n",
    "x_legs = [0,2,4]\n",
    "y_air = [0,1]\n",
    "groups = [1,2]\n",
    "colors = [\"blue\", \"red\"]\n",
    "\n",
    "#Adjust marker size according to number of samples \n",
    "\n",
    "for group in groups:\n",
    "    subX = X[np.where(y==group)[0],:]\n",
    "\n",
    "    for x in x_legs:\n",
    "        subsubX = subX[np.where(subX[:,[0]]==x)[0],1]\n",
    "\n",
    "        for s in y_air:\n",
    "            marker_size = len(np.where(subsubX==s)[0])\n",
    "            scatter = ax.scatter(x, s, marker='o',c=colors[group-1],\n",
    "                s=marker_size*100, edgecolor='k', alpha=0.5, label=group)\n",
    "\n",
    "#Get legend handles and select only one handle from each group.\n",
    "handles,labels = ax.get_legend_handles_labels()\n",
    "legend = ax.legend((handles[2], handles[8]),('1=mammals', '2=birds'), loc = [1.05, 0.7], title = \"Classes\", markerscale=0.5)   \n",
    "\n",
    "plt.show()"
   ]
  },
  {
   "cell_type": "markdown",
   "metadata": {
    "deletable": false,
    "editable": false,
    "nbgrader": {
     "cell_type": "markdown",
     "checksum": "15b06c520aef2632b3dc20bac426d3f5",
     "grade": false,
     "grade_id": "cell-1d9f1ab4fd9784b4",
     "locked": true,
     "schema_version": 3,
     "solution": false,
     "task": false
    }
   },
   "source": [
    "<div class=\" alert alert-info\">  \n",
    "We also create an NaiveBayes classifier and train it. A prediction for a test point [2,0] (two-legged animals which cannot fly) is calculated and its posterior probabilites.\n",
    "    \n",
    "</div>"
   ]
  },
  {
   "cell_type": "code",
   "execution_count": 4,
   "metadata": {},
   "outputs": [
    {
     "name": "stdout",
     "output_type": "stream",
     "text": [
      "The predicted class for a point [2, 0] is 1\n",
      "The probability that the point belongs to class 1 is 5.324602746509388e-01\n",
      "The probability that the point belongs to class 2 is 0.46753972534906135\n"
     ]
    }
   ],
   "source": [
    "from sklearn.naive_bayes import CategoricalNB\n",
    "#Create Categorical Naive Bayes object\n",
    "cnb = CategoricalNB()\n",
    "\n",
    "#Fit model with X and y. np.ravel() is used for shaping y from column vector into 1D-array format.\n",
    "cnb = cnb.fit(X,np.ravel(y))\n",
    "\n",
    "#Predict the class for a sample point (2,0).\n",
    "sample = [2,0]\n",
    "predClass = cnb.predict([sample])[0]\n",
    "\n",
    "#Posterior probabilities that sample [2,0] belongs to class 1 and class 2.\n",
    "prob = cnb.predict_proba([sample])\n",
    "\n",
    "#Print class.\n",
    "print(\"The predicted class for a point\",sample,\"is\", predClass)\n",
    "print(\"The probability that the point belongs to class 1 is\", prob[0,0])\n",
    "print(\"The probability that the point belongs to class 2 is\", prob[0,1])"
   ]
  },
  {
   "cell_type": "markdown",
   "metadata": {
    "deletable": false,
    "editable": false,
    "nbgrader": {
     "cell_type": "markdown",
     "checksum": "138728b48fbca82f4495e779e0365605",
     "grade": false,
     "grade_id": "cell-df0f10c4d0cbb2d0",
     "locked": true,
     "schema_version": 3,
     "solution": false,
     "task": false
    }
   },
   "source": [
    "The classifier predicts that the sample is a mammal."
   ]
  },
  {
   "cell_type": "markdown",
   "metadata": {
    "deletable": false,
    "editable": false,
    "nbgrader": {
     "cell_type": "markdown",
     "checksum": "aa89b3cd20bde2c2d401cdc5c289877a",
     "grade": false,
     "grade_id": "cell-73b5c4f267940fdb",
     "locked": true,
     "schema_version": 3,
     "solution": false,
     "task": false
    }
   },
   "source": [
    "## Problems"
   ]
  },
  {
   "cell_type": "markdown",
   "metadata": {
    "deletable": false,
    "editable": false,
    "nbgrader": {
     "cell_type": "markdown",
     "checksum": "f9cc85ecf3c52d9fc6978409fb36baa4",
     "grade": false,
     "grade_id": "cell-1086c3bac800d46a",
     "locked": true,
     "schema_version": 3,
     "solution": false,
     "task": false
    }
   },
   "source": [
    "<div class=\" alert alert-warning\"> \n",
    "    <b>Problem 1.1.</b> \n",
    "    \n",
    "Look basic info of both groups (birds and mammals) separately from the selected training data and answer to the following two questions.\n",
    "    \n",
    "1. How many mammals there is with two legs?\n",
    "    \n",
    "2. How many of them can fly and how many cannot?\n",
    "    \n",
    "\n",
    "</div>"
   ]
  },
  {
   "cell_type": "code",
   "execution_count": 5,
   "metadata": {
    "deletable": false,
    "nbgrader": {
     "cell_type": "code",
     "checksum": "6a52196b7438407627aa4924165a9c40",
     "grade": false,
     "grade_id": "cell-0b387162827c5787",
     "locked": false,
     "schema_version": 3,
     "solution": true,
     "task": false
    }
   },
   "outputs": [
    {
     "name": "stdout",
     "output_type": "stream",
     "text": [
      "number of mammals with two legs:  8\n",
      "number of mammals which are two legged and can fly:  2\n",
      "number of mammals which are two legged and cannot fly:  6\n"
     ]
    }
   ],
   "source": [
    "# Answer by assigning a number (integer) to each variable. Use the dataset (variable data) to calculate each value\n",
    "\n",
    "# YOUR CODE HERE\n",
    "mammals = X[np.where(y == 1)[0],:]\n",
    "# print(mammals[np.where(mammals[:,0] == 2)])\n",
    "\n",
    "print(\"number of mammals with two legs: \",len(mammals[np.where(mammals[:,0] == 2)]))\n",
    "print(\"number of mammals which are two legged and can fly: \",len(mammals[np.where((mammals[:,1] == 1) & (mammals[:,0] == 2))]))\n",
    "print(\"number of mammals which are two legged and cannot fly: \",len(mammals[np.where((mammals[:,1] == 0) & (mammals[:,0] == 2))]))"
   ]
  },
  {
   "cell_type": "code",
   "execution_count": 6,
   "metadata": {
    "deletable": false,
    "editable": false,
    "nbgrader": {
     "cell_type": "code",
     "checksum": "f9b67f57f3a45803162a31dd5bf8b5b9",
     "grade": true,
     "grade_id": "cell-ef64cb9ba5e3cb4a",
     "locked": true,
     "points": 0.25,
     "schema_version": 3,
     "solution": false,
     "task": false
    }
   },
   "outputs": [],
   "source": [
    "# Your points for the Problem 1.1.1 will be given in this cell. Do not modify it."
   ]
  },
  {
   "cell_type": "code",
   "execution_count": 7,
   "metadata": {
    "deletable": false,
    "editable": false,
    "nbgrader": {
     "cell_type": "code",
     "checksum": "0b3f53fa8ab791ddcaa32ee178ae8a8d",
     "grade": true,
     "grade_id": "cell-8b36228dfe9a4c57",
     "locked": true,
     "points": 0.25,
     "schema_version": 3,
     "solution": false,
     "task": false
    }
   },
   "outputs": [],
   "source": [
    "# Your points for the Problem 1.1.2 will be given in this cell. Do not modify it."
   ]
  },
  {
   "cell_type": "markdown",
   "metadata": {
    "deletable": false,
    "editable": false,
    "nbgrader": {
     "cell_type": "markdown",
     "checksum": "608ba7c3bba84146e77220d2028fb5a5",
     "grade": false,
     "grade_id": "cell-c1ac0704b9f5efcb",
     "locked": true,
     "schema_version": 3,
     "solution": false,
     "task": false
    }
   },
   "source": [
    "<div class=\" alert alert-warning\"> \n",
    "    <b>Problem 1.2.</b> \n",
    "    \n",
    "Answer the following questions.\n",
    "    \n",
    "1.Why animals with 2 legs and which cannot fly are classified as mammals although number of birds grouped as having two legs and unable to fly is bigger?\n",
    "    \n",
    "2.According to Wikipedia (https://en.wikipedia.org/wiki/Flightless_bird) there are 60 bird species that cannot fly. Unfortunately, no exact estimate of 2 legged mammals was found but if it is less than 60, what can you say about the performance of our model in real life? How could you improve our model with the data set given? Do improvements and tell what are the probabilities now? HINT: check parameters of CategoricalNB().\n",
    "\n",
    "</div>"
   ]
  },
  {
   "cell_type": "markdown",
   "metadata": {
    "deletable": false,
    "editable": false,
    "nbgrader": {
     "cell_type": "markdown",
     "checksum": "6fd42c147c51daeac335e604d32f6142",
     "grade": false,
     "grade_id": "cell-08615a7c4b5a1960",
     "locked": true,
     "schema_version": 3,
     "solution": false,
     "task": false
    }
   },
   "source": [
    "Answer to question 1.2.1 in the cell below"
   ]
  },
  {
   "cell_type": "markdown",
   "metadata": {
    "deletable": false,
    "nbgrader": {
     "cell_type": "markdown",
     "checksum": "037036b5c24fc73fb7cbf8fa6d388f27",
     "grade": true,
     "grade_id": "cell-118208382f6c3815",
     "locked": false,
     "points": 0.5,
     "schema_version": 3,
     "solution": true,
     "task": false
    }
   },
   "source": [
    "Animals with two legs and which cannot fly are classified as mammals because they share certain characteristics that are typical of mammals, such as the presence of hair or fur, the ability to produce milk to feed their cups, and the presence of certain bones in their limbs. These characteristics are not found in birds, which is why they are not classified as mammals, even if they have two legs and cannot fly."
   ]
  },
  {
   "cell_type": "code",
   "execution_count": 8,
   "metadata": {
    "deletable": false,
    "nbgrader": {
     "cell_type": "code",
     "checksum": "e2d5274773898351d469a8b01d437248",
     "grade": false,
     "grade_id": "cell-c470cab543614374",
     "locked": false,
     "schema_version": 3,
     "solution": true,
     "task": false
    }
   },
   "outputs": [
    {
     "name": "stdout",
     "output_type": "stream",
     "text": [
      "2\n",
      "[[0.4315718 0.5684282]]\n"
     ]
    }
   ],
   "source": [
    "# Problem 1.2.2 Do improvements\n",
    "# YOUR CODE HERE\n",
    "# See tutorial for help\n",
    "# Do prediction using point [[2,0]] (2 legs, cannot fly)\n",
    "\n",
    "#Create Categorical Naive Bayes object\n",
    "cnb = CategoricalNB(fit_prior=False, alpha=1)\n",
    "\n",
    "#Fit model with X and y. np.ravel() is used for shaping y from column vector into 1D-array format.\n",
    "cnb = cnb.fit(X,np.ravel(y))\n",
    "\n",
    "#Predict the class for a sample point (2,0).\n",
    "sample = [2,0]\n",
    "predClass = cnb.predict([sample])[0]\n",
    "\n",
    "#Posterior probabilities that sample [2,0] belongs to class 1 and class 2.\n",
    "probs = cnb.predict_proba([sample]) # Calculate the probabilities for both classes. The probs variable should contain a numpy array of size 2, with the lower probability first. \n",
    "print(predClass)\n",
    "print(probs) # Check if output is as instructed"
   ]
  },
  {
   "cell_type": "code",
   "execution_count": 9,
   "metadata": {
    "deletable": false,
    "editable": false,
    "nbgrader": {
     "cell_type": "code",
     "checksum": "38e9aea44a7e1794ecfabd5977f9a74c",
     "grade": true,
     "grade_id": "cell-d516ba20cc58bf61",
     "locked": true,
     "points": 0.5,
     "schema_version": 3,
     "solution": false,
     "task": false
    }
   },
   "outputs": [],
   "source": [
    "# Your points for the Problem 1.2 will be given in this cell. Do not modify it."
   ]
  },
  {
   "cell_type": "markdown",
   "metadata": {},
   "source": [
    "#### 1.2.2 what can you say about the performance of our model in real life? How could you improve our model with the data set given? Do improvements and tell what are the probabilities now? "
   ]
  },
  {
   "cell_type": "markdown",
   "metadata": {
    "deletable": false,
    "editable": false,
    "nbgrader": {
     "cell_type": "markdown",
     "checksum": "5d24a506e1f9101e18123469c157e048",
     "grade": false,
     "grade_id": "cell-f37fa6b274dda213",
     "locked": true,
     "schema_version": 3,
     "solution": false,
     "task": false
    }
   },
   "source": [
    "Answer to question 1.2.2 in the cell below"
   ]
  },
  {
   "cell_type": "markdown",
   "metadata": {
    "deletable": false,
    "nbgrader": {
     "cell_type": "markdown",
     "checksum": "aeea03648d8341c621fe3ff872e7f9ff",
     "grade": true,
     "grade_id": "cell-bd80fafa7ccf6d7f",
     "locked": false,
     "points": 0.5,
     "schema_version": 3,
     "solution": true,
     "task": false
    }
   },
   "source": [
    "Fit_prior was set to false - the priors are not adjusted according to the data.\n",
    "if mammals are less than 60 and birds 60\n",
    "Probs: 2 -> [0.4315718 0.5684282]"
   ]
  },
  {
   "cell_type": "markdown",
   "metadata": {
    "deletable": false,
    "editable": false,
    "nbgrader": {
     "cell_type": "markdown",
     "checksum": "ef2cfbef35f11698f229d43dfe4a24ce",
     "grade": false,
     "grade_id": "cell-690270c9bbf4616f",
     "locked": true,
     "schema_version": 3,
     "solution": false,
     "task": false
    }
   },
   "source": [
    "# 2. Ensemble learning"
   ]
  },
  {
   "cell_type": "markdown",
   "metadata": {
    "deletable": false,
    "editable": false,
    "nbgrader": {
     "cell_type": "markdown",
     "checksum": "0726096e53179ca82ab9cd61c4ae0cff",
     "grade": false,
     "grade_id": "cell-10e6373ed14f3df7",
     "locked": true,
     "schema_version": 3,
     "solution": false,
     "task": false
    }
   },
   "source": [
    "## Tutorial"
   ]
  },
  {
   "cell_type": "markdown",
   "metadata": {
    "deletable": false,
    "editable": false,
    "nbgrader": {
     "cell_type": "markdown",
     "checksum": "7b9491285c644e94920c216c754eea9f",
     "grade": false,
     "grade_id": "cell-c003edac5c4e1dd6",
     "locked": true,
     "schema_version": 3,
     "solution": false,
     "task": false
    }
   },
   "source": [
    "<div class=\" alert alert-info\">\n",
    "In this part we familiarize ourselves with two ensemble methods called bagging and boosting.\n",
    "</div>"
   ]
  },
  {
   "cell_type": "markdown",
   "metadata": {
    "deletable": false,
    "editable": false,
    "nbgrader": {
     "cell_type": "markdown",
     "checksum": "25940cd0979e0de98ac649aeee587112",
     "grade": false,
     "grade_id": "cell-8d5513b68bbe4e4d",
     "locked": true,
     "schema_version": 3,
     "solution": false,
     "task": false
    }
   },
   "source": [
    "### Bagging"
   ]
  },
  {
   "cell_type": "markdown",
   "metadata": {
    "deletable": false,
    "editable": false,
    "nbgrader": {
     "cell_type": "markdown",
     "checksum": "d3838197e1f72ee812ab03786ac2c303",
     "grade": false,
     "grade_id": "cell-73162f75c3413df3",
     "locked": true,
     "schema_version": 3,
     "solution": false,
     "task": false
    }
   },
   "source": [
    "<div class=\" alert alert-info\">\n",
    "Below we use Gaussian Naive Bayes classifier as a weak classifier. Here we use Iris-dataset found from Scikit-learn's data sets. We train our model with different number of weak classifiers involved and see how it affects to our test results. Note the use of k-fold cross-validation from sklearn.\n",
    "</div>"
   ]
  },
  {
   "cell_type": "code",
   "execution_count": 10,
   "metadata": {},
   "outputs": [
    {
     "name": "stdout",
     "output_type": "stream",
     "text": [
      "       sepal length (cm)  sepal width (cm)  petal length (cm)  \\\n",
      "count         150.000000        150.000000         150.000000   \n",
      "mean            5.843333          3.057333           3.758000   \n",
      "std             0.828066          0.435866           1.765298   \n",
      "min             4.300000          2.000000           1.000000   \n",
      "25%             5.100000          2.800000           1.600000   \n",
      "50%             5.800000          3.000000           4.350000   \n",
      "75%             6.400000          3.300000           5.100000   \n",
      "max             7.900000          4.400000           6.900000   \n",
      "\n",
      "       petal width (cm)  \n",
      "count        150.000000  \n",
      "mean           1.199333  \n",
      "std            0.762238  \n",
      "min            0.100000  \n",
      "25%            0.300000  \n",
      "50%            1.300000  \n",
      "75%            1.800000  \n",
      "max            2.500000  \n",
      "count    150.000000\n",
      "mean       1.000000\n",
      "std        0.819232\n",
      "min        0.000000\n",
      "25%        0.000000\n",
      "50%        1.000000\n",
      "75%        2.000000\n",
      "max        2.000000\n",
      "Name: target, dtype: float64\n"
     ]
    },
    {
     "data": {
      "image/png": "[encoded data removed]",
      "text/plain": [
       "<Figure size 432x288 with 1 Axes>"
      ]
     },
     "metadata": {
      "needs_background": "light"
     },
     "output_type": "display_data"
    }
   ],
   "source": [
    "#import libraries\n",
    "import pandas as pd\n",
    "from sklearn.naive_bayes import GaussianNB\n",
    "from sklearn.ensemble import BaggingClassifier\n",
    "from sklearn.datasets import load_iris\n",
    "from sklearn.model_selection import StratifiedKFold\n",
    "\n",
    "#Load Iris-dataset.\n",
    "dataIris = load_iris(as_frame=True)\n",
    "dataIris = dataIris.frame\n",
    "\n",
    "#Separate train and test set.\n",
    "X = dataIris.iloc[:,:4]\n",
    "y = dataIris.iloc[:,4]\n",
    "\n",
    "#Look basic info about the data selected.\n",
    "print(X.describe())\n",
    "print(y.describe())\n",
    "\n",
    "#Transform to numpy array.\n",
    "X = np.array(dataIris.iloc[:,:4])\n",
    "y = np.ravel(np.array((dataIris.iloc[:,4])))\n",
    "\n",
    "#Here cross-validation (stratified K-fold) is used.\n",
    "skf = StratifiedKFold()\n",
    "\n",
    "#Initialize variables to store the number of laps and an array for storing accuracy values.\n",
    "learn_count = 0\n",
    "learning = np.zeros([20,2])\n",
    "\n",
    "#Test different number of weak classifiers from 1 to 20.\n",
    "for n_estim in range(1,21,1):\n",
    "    \n",
    "    #Create BaggingClassifier() object.\n",
    "    bc = BaggingClassifier(base_estimator=GaussianNB(), n_estimators= n_estim, random_state=0)\n",
    "    \n",
    "    count = 0\n",
    "    accuracies = np.zeros([5,2])\n",
    "\n",
    "    #Fit model and predict the outcome\n",
    "    for train_index, test_index in skf.split(X, y):\n",
    "        #print(train_index)\n",
    "        X_train, X_test = X[train_index], X[test_index]\n",
    "        y_train, y_test = y[train_index], y[test_index]\n",
    "    \n",
    "        #Fit it with X and y.\n",
    "        bc.fit(X_train,y_train)\n",
    "\n",
    "        #Calculate training and testing accuracies\n",
    "        train_acc = bc.score(X_train, y_train)\n",
    "        test_acc  = bc.score(X_test, y_test)\n",
    "    \n",
    "        accuracies[count,0] = train_acc\n",
    "        accuracies[count,1] = test_acc\n",
    "    \n",
    "        count += 1\n",
    "    \n",
    "    #Calculate the mean of all folds\n",
    "    mean_acc = np.mean(accuracies,axis=0)\n",
    "   \n",
    "    #save average means to final accuracy array.\n",
    "    learning[learn_count,:] = mean_acc\n",
    "    learn_count += 1\n",
    "\n",
    "#Plot learning curve.\n",
    "fig2,ax2 = plt.subplots()\n",
    "\n",
    "ax2.plot(range(1,21,1),learning[:,0],'bo-', label = 'train_acc')\n",
    "ax2.plot(range(1,21,1),learning[:,1],'yo-', label = 'test_acc')\n",
    "legend = ax2.legend(loc='lower center')\n",
    "plt.show()\n"
   ]
  },
  {
   "cell_type": "markdown",
   "metadata": {
    "deletable": false,
    "editable": false,
    "nbgrader": {
     "cell_type": "markdown",
     "checksum": "e612a664acc258fcf419cb65b581775a",
     "grade": false,
     "grade_id": "cell-0f2fb92b8672245c",
     "locked": true,
     "schema_version": 3,
     "solution": false,
     "task": false
    }
   },
   "source": [
    "### Boosting"
   ]
  },
  {
   "cell_type": "markdown",
   "metadata": {
    "deletable": false,
    "editable": false,
    "nbgrader": {
     "cell_type": "markdown",
     "checksum": "7091cdd602aa3a755b31ebf6498139a1",
     "grade": false,
     "grade_id": "cell-9e220b4a35c1b3e1",
     "locked": true,
     "schema_version": 3,
     "solution": false,
     "task": false
    }
   },
   "source": [
    "<div class=\" alert alert-info\">\n",
    "Here we repeat the same procedure with the same data set using Adaboost-classifier, which uses decision tree stumps as a weak classifier.\n",
    "</div>"
   ]
  },
  {
   "cell_type": "code",
   "execution_count": 11,
   "metadata": {},
   "outputs": [
    {
     "data": {
      "image/png": "[encoded data removed]",
      "text/plain": [
       "<Figure size 432x288 with 1 Axes>"
      ]
     },
     "metadata": {
      "needs_background": "light"
     },
     "output_type": "display_data"
    }
   ],
   "source": [
    "#import libraries\n",
    "from sklearn.ensemble import AdaBoostClassifier\n",
    "\n",
    "#Initialize variables to store the number of laps and an array for storing accuracy values.\n",
    "learn_count = 0\n",
    "learning = np.zeros([20,2])\n",
    "\n",
    "#Test different number of weak classifiers from 1 to 20.\n",
    "for n_estim in range(1,21,1):   \n",
    "    \n",
    "    #Create AdaBoosClassifier object.\n",
    "    ada = AdaBoostClassifier(n_estimators=n_estim, random_state=0)\n",
    "\n",
    "    count = 0\n",
    "    accuracies = np.zeros([5,2])\n",
    "\n",
    "    #Fit model and predict the outcome\n",
    "    for train_index, test_index in skf.split(X, y):\n",
    "    \n",
    "        X_train, X_test = X[train_index], X[test_index]\n",
    "        y_train, y_test = y[train_index], y[test_index]\n",
    "    \n",
    "        #Fit it with X and y.\n",
    "        ada.fit(X_train,y_train)\n",
    "\n",
    "        #Calculate training and testing accuracies\n",
    "        train_acc = ada.score(X_train, y_train)\n",
    "        test_acc  = ada.score(X_test, y_test)\n",
    "    \n",
    "        accuracies[count,0] = train_acc\n",
    "        accuracies[count,1] = test_acc\n",
    "    \n",
    "        count += 1\n",
    "        \n",
    "    mean_acc = np.mean(accuracies,axis=0)\n",
    "    #print(np.mean(accuracies,axis=0))\n",
    "    \n",
    "    learning[learn_count,:] = mean_acc\n",
    "    learn_count += 1  \n",
    "    \n",
    "fig3,ax3 = plt.subplots()\n",
    "\n",
    "ax3.plot(range(1,21,1),learning[:,0],'bo-', label = 'train_acc')\n",
    "ax3.plot(range(1,21,1),learning[:,1],'yo-', label = 'test_acc')\n",
    "legend = ax3.legend(loc='lower center')\n",
    "plt.show()"
   ]
  },
  {
   "cell_type": "markdown",
   "metadata": {
    "deletable": false,
    "editable": false,
    "nbgrader": {
     "cell_type": "markdown",
     "checksum": "b2a45b1bc48d663bedd70de289586635",
     "grade": false,
     "grade_id": "cell-bed1cce2f5dc19bc",
     "locked": true,
     "schema_version": 3,
     "solution": false,
     "task": false
    }
   },
   "source": [
    "## Problems"
   ]
  },
  {
   "cell_type": "markdown",
   "metadata": {
    "deletable": false,
    "editable": false,
    "nbgrader": {
     "cell_type": "markdown",
     "checksum": "8aab35e0604cfad6eef24415c7e9b0e7",
     "grade": false,
     "grade_id": "cell-2279b864a0e5df3f",
     "locked": true,
     "schema_version": 3,
     "solution": false,
     "task": false
    }
   },
   "source": [
    "<div class=\" alert alert-warning\"> \n",
    "    <b>Problem 2.1.</b> \n",
    "\n",
    "Experiment the behaviour of bagging and adaboost on an artificial data set. Plot learning curves as a function of studied parameter. In order to make comparison easier you can try to plot the training curves of both classifiers in one plot and the testing curves in another.\n",
    "    \n",
    "1. Test different number of samples in the training set (between 500 and 10000 with step size 1000).\n",
    "\n",
    "2. How the different outcomes of classifiers can be explained?\n",
    "\n",
    "You may also try other changes in data set. Like how increasing the number of features or number of informative features affects.\n",
    "\n",
    "</div>"
   ]
  },
  {
   "cell_type": "code",
   "execution_count": 12,
   "metadata": {
    "deletable": false,
    "nbgrader": {
     "cell_type": "code",
     "checksum": "a0c5b6065ac788466c3b5b5e3565bda9",
     "grade": false,
     "grade_id": "cell-78757ac2d5574289",
     "locked": false,
     "schema_version": 3,
     "solution": true,
     "task": false
    }
   },
   "outputs": [
    {
     "data": {
      "image/png": "[encoded data removed]",
      "text/plain": [
       "<Figure size 432x288 with 1 Axes>"
      ]
     },
     "metadata": {
      "needs_background": "light"
     },
     "output_type": "display_data"
    },
    {
     "data": {
      "image/png": "[encoded data removed]",
      "text/plain": [
       "<Figure size 432x288 with 1 Axes>"
      ]
     },
     "metadata": {
      "needs_background": "light"
     },
     "output_type": "display_data"
    },
    {
     "data": {
      "image/png": "[encoded data removed]",
      "text/plain": [
       "<Figure size 432x288 with 1 Axes>"
      ]
     },
     "metadata": {
      "needs_background": "light"
     },
     "output_type": "display_data"
    },
    {
     "data": {
      "image/png": "[encoded data removed]",
      "text/plain": [
       "<Figure size 432x288 with 1 Axes>"
      ]
     },
     "metadata": {
      "needs_background": "light"
     },
     "output_type": "display_data"
    },
    {
     "data": {
      "image/png": "[encoded data removed]",
      "text/plain": [
       "<Figure size 432x288 with 1 Axes>"
      ]
     },
     "metadata": {
      "needs_background": "light"
     },
     "output_type": "display_data"
    },
    {
     "data": {
      "image/png": "[encoded data removed]",
      "text/plain": [
       "<Figure size 432x288 with 1 Axes>"
      ]
     },
     "metadata": {
      "needs_background": "light"
     },
     "output_type": "display_data"
    },
    {
     "data": {
      "image/png": "[encoded data removed]",
      "text/plain": [
       "<Figure size 432x288 with 1 Axes>"
      ]
     },
     "metadata": {
      "needs_background": "light"
     },
     "output_type": "display_data"
    },
    {
     "data": {
      "image/png": "[encoded data removed]",
      "text/plain": [
       "<Figure size 432x288 with 1 Axes>"
      ]
     },
     "metadata": {
      "needs_background": "light"
     },
     "output_type": "display_data"
    },
    {
     "data": {
      "image/png": "[encoded data removed]",
      "text/plain": [
       "<Figure size 432x288 with 1 Axes>"
      ]
     },
     "metadata": {
      "needs_background": "light"
     },
     "output_type": "display_data"
    },
    {
     "data": {
      "image/png": "[encoded data removed]",
      "text/plain": [
       "<Figure size 432x288 with 1 Axes>"
      ]
     },
     "metadata": {
      "needs_background": "light"
     },
     "output_type": "display_data"
    }
   ],
   "source": [
    "from sklearn.datasets import make_classification\n",
    "\n",
    "#To create artificial data set use make_classification function with following parameters.  \n",
    "#Use classifiers with following parameters:\n",
    "#BaggingClassifier(base_estimator=GaussianNB(), n_estimators=100, random_state=0)\n",
    "#AdaBoostClassifier(n_estimators=100, random_state=0)\n",
    "#Use StratifiedKFold() as in the tutorial section.\n",
    "\n",
    "from sklearn.datasets import make_classification\n",
    "\n",
    "#To create artificial data set use make_classification function with following parameters.\n",
    "\n",
    "# X_art, y_art = make_classification(n_samples=500, n_features=4,\n",
    "#                           n_informative=2, n_redundant=0,\n",
    "#                            random_state=0, shuffle=False)\n",
    "        \n",
    "#Use classifiers with following parameters:\n",
    "#BaggingClassifier(base_estimator=GaussianNB(), n_estimators=100, random_state=0)\n",
    "#AdaBoostClassifier(n_estimators=100, random_state=0)\n",
    "#Use StratifiedKFold() as in the tutorial section.\n",
    "\n",
    "\n",
    "#Add your code here.\n",
    "#skf = StratifiedKFold()\n",
    "\n",
    "\n",
    "    \n",
    "for nsamp in range(500,10000,1000): \n",
    "\n",
    "    X_art, y_art = make_classification(n_samples=nsamp, n_features=4,\n",
    "                                  n_informative=2, n_redundant=0,\n",
    "                                   random_state=0, shuffle=False)\n",
    "\n",
    "\n",
    "    # Here cross-validation (stratified K-fold) is used.\n",
    "    skf = StratifiedKFold()\n",
    "\n",
    "    count = 0\n",
    "    accuracies = np.zeros([5,2])\n",
    "    \n",
    "    learn_count = 0\n",
    "    learning_bag = np.zeros([20,2])\n",
    "    learning_ada = np.zeros([20,2])\n",
    "    \n",
    "    # Test different number of weak classifiers from 1 to 20.\n",
    "    for n_estim in range(1,21,1):\n",
    "        \n",
    "        bc = BaggingClassifier(base_estimator=GaussianNB(), n_estimators=n_estim, random_state=0)\n",
    "        ada = AdaBoostClassifier(n_estimators=n_estim, random_state=0)\n",
    "\n",
    "        count = 0\n",
    "        acc_ada = np.zeros([5,2])\n",
    "        acc_bc = np.zeros([5,2])\n",
    "\n",
    "        # Fit model and predict the outcome\n",
    "        for train_index, test_index in skf.split(X_art, y_art):\n",
    "\n",
    "            X_train, X_test = X_art[train_index], X_art[test_index]\n",
    "            y_train, y_test = y_art[train_index], y_art[test_index]\n",
    "\n",
    "            # Fit it with X and y.\n",
    "            ada.fit(X_train,y_train)\n",
    "            bc.fit(X_train,y_train)\n",
    "\n",
    "            # Calculate training and testing accuracies\n",
    "            train_acc = ada.score(X_train, y_train)\n",
    "            test_acc  = ada.score(X_test, y_test)\n",
    "\n",
    "            acc_ada[count,0] = train_acc\n",
    "            acc_ada[count,1] = test_acc\n",
    "\n",
    "            train_acc = bc.score(X_train, y_train)\n",
    "            test_acc  = bc.score(X_test, y_test)\n",
    "\n",
    "            acc_bc[count,0] = train_acc\n",
    "            acc_bc[count,1] = test_acc\n",
    "\n",
    "            count += 1\n",
    "\n",
    "        # Calculate the mean of all folds\n",
    "        # save average means to final accuracy array.\n",
    "        learning_ada[learn_count,:] = np.mean(acc_ada,axis=0)\n",
    "        learning_bag[learn_count,:] = np.mean(acc_bc,axis=0)\n",
    "        \n",
    "        learn_count += 1\n",
    "\n",
    "    # Plot learning curve.\n",
    "    fig2,ax2 = plt.subplots()\n",
    "    strung = 'samples: '+str(nsamp)\n",
    "    plt.title(strung)\n",
    "    ax2.plot(range(1,21,1),learning_ada[:,0],'bo-', label = 'train_acc_ada')\n",
    "    ax2.plot(range(1,21,1),learning_ada[:,1],'yo-', label = 'test_acc_ada')\n",
    "    ax2.plot(range(1,21,1),learning_bag[:,0],'ro-', label = 'train_acc_bc')\n",
    "    ax2.plot(range(1,21,1),learning_bag[:,1],'go-', label = 'test_acc_bc')\n",
    "    legend = ax2.legend(loc='lower center')\n",
    "    ax2.set(ylim = (0, 1))\n",
    "    plt.show()\n"
   ]
  },
  {
   "cell_type": "code",
   "execution_count": 13,
   "metadata": {
    "deletable": false,
    "editable": false,
    "nbgrader": {
     "cell_type": "code",
     "checksum": "6f8b84913b5d0dc4d4c70a8f30660fbd",
     "grade": true,
     "grade_id": "cell-56fd1c598cd4cf0e",
     "locked": true,
     "points": 0.75,
     "schema_version": 3,
     "solution": false,
     "task": false
    }
   },
   "outputs": [],
   "source": [
    "# Your points for the Problem 2.1 learning_bag will be given in this cell. Do not modify it."
   ]
  },
  {
   "cell_type": "code",
   "execution_count": 14,
   "metadata": {
    "deletable": false,
    "editable": false,
    "nbgrader": {
     "cell_type": "code",
     "checksum": "4f7cf6eaa970f79eec84f84b01333ed8",
     "grade": true,
     "grade_id": "cell-04c45e5fdf64b6c1",
     "locked": true,
     "points": 0.75,
     "schema_version": 3,
     "solution": false,
     "task": false
    }
   },
   "outputs": [],
   "source": [
    "# Your points for the Problem 2.1 learning_ada will be given in this cell. Do not modify it."
   ]
  },
  {
   "cell_type": "markdown",
   "metadata": {},
   "source": [
    "#### 2.1.2 How the different outcomes of classifiers can be explained?"
   ]
  },
  {
   "cell_type": "markdown",
   "metadata": {
    "deletable": false,
    "editable": false,
    "nbgrader": {
     "cell_type": "markdown",
     "checksum": "2d436408866616e92316be2295ba9948",
     "grade": false,
     "grade_id": "cell-b0f8f6b315bc9d48",
     "locked": true,
     "schema_version": 3,
     "solution": false,
     "task": false
    }
   },
   "source": [
    "Answer to question 2.1.2 in the cell below"
   ]
  },
  {
   "cell_type": "markdown",
   "metadata": {
    "deletable": false,
    "nbgrader": {
     "cell_type": "markdown",
     "checksum": "73f36f79d854c089a382b95dcc61c273",
     "grade": true,
     "grade_id": "cell-0f801cd5c51eaf0f",
     "locked": false,
     "points": 0.5,
     "schema_version": 3,
     "solution": true,
     "task": false
    }
   },
   "source": [
    "Bagging is a method of merging the same type of predictions. Boosting is a method of merging different types of predictions. Bagging decreases variance, not bias, and solves over-fitting issues in a model. Boosting decreases bias, not variance."
   ]
  },
  {
   "cell_type": "markdown",
   "metadata": {
    "deletable": false,
    "editable": false,
    "nbgrader": {
     "cell_type": "markdown",
     "checksum": "0931010836a20387c40f1db9e994ab49",
     "grade": false,
     "grade_id": "cell-d7df0b4b622d508a",
     "locked": true,
     "schema_version": 3,
     "solution": false,
     "task": false
    }
   },
   "source": [
    "# 3. Classifier combination strategies, diversity techniques"
   ]
  },
  {
   "cell_type": "markdown",
   "metadata": {
    "deletable": false,
    "editable": false,
    "nbgrader": {
     "cell_type": "markdown",
     "checksum": "78289afa156f7abede2a3b82e78d0855",
     "grade": false,
     "grade_id": "cell-39a4e79b1f629290",
     "locked": true,
     "schema_version": 3,
     "solution": false,
     "task": false
    }
   },
   "source": [
    "## Tutorial"
   ]
  },
  {
   "cell_type": "markdown",
   "metadata": {
    "deletable": false,
    "editable": false,
    "nbgrader": {
     "cell_type": "markdown",
     "checksum": "8b8b3fa96ef2c9d94d59ea24556416de",
     "grade": false,
     "grade_id": "cell-fc77a46396441a14",
     "locked": true,
     "schema_version": 3,
     "solution": false,
     "task": false
    }
   },
   "source": [
    "<div class=\" alert alert-info\">\n",
    "In this part we will use three different classifiers as base classifiers: Naive Bayes, Support Vector Machines and Adaboost. Below the needed classifier objects are created and fitted with training data. \n",
    "</div>"
   ]
  },
  {
   "cell_type": "markdown",
   "metadata": {
    "deletable": false,
    "editable": false,
    "nbgrader": {
     "cell_type": "markdown",
     "checksum": "40a4f21e0a60b9280f11626f85fe1362",
     "grade": false,
     "grade_id": "cell-90b08a4d50d96676",
     "locked": true,
     "schema_version": 3,
     "solution": false,
     "task": false
    }
   },
   "source": [
    "## Base classifiers"
   ]
  },
  {
   "cell_type": "code",
   "execution_count": 15,
   "metadata": {},
   "outputs": [],
   "source": [
    "#import needed functions from libraries\n",
    "from sklearn.datasets import make_classification\n",
    "from sklearn.naive_bayes import GaussianNB\n",
    "from sklearn.svm import SVC\n",
    "from sklearn.ensemble import AdaBoostClassifier\n",
    "from sklearn.model_selection import train_test_split\n",
    "\n",
    "#Create an artificial dataset of 1000 samples with 9 features of which 6 separates them into 3 different classes.\n",
    "X, y = make_classification(n_samples=1200, n_features=9,\n",
    "                           n_informative=6, n_redundant=0, \n",
    "                           n_classes=3,random_state=0, \n",
    "                           shuffle=False)\n",
    "\n",
    "\n",
    "#Divide the data into training set and test set (the last sample of the whole data set).\n",
    "#Each classifier will get its own subset of features.\n",
    "X_train, X_test, y_train, y_test = train_test_split(X, y, test_size=0.2, random_state=0)\n",
    "X1 = X_train[:,0:3]\n",
    "X2 = X_train[:,3:6]\n",
    "X3 = X_train[:,6:9]\n",
    "\n",
    "xtest1 = X_test[:,0:3]\n",
    "xtest2 = X_test[:,3:6]\n",
    "xtest3 = X_test[:,6:9]\n",
    "\n",
    "#Create GaussianNB() classifier object and train it wirh train set X1\n",
    "gnb = GaussianNB()\n",
    "gnb = gnb.fit(X1, y_train)\n",
    "\n",
    "#Create support vector machine classifier object SVC() with a parameter probability = True.\n",
    "#and train it with train set X2.\n",
    "svc = SVC(probability=True)\n",
    "svc = svc.fit(X2, y_train)\n",
    "\n",
    "#Create AdaBoostClassifier() object. Set parameters n_estimators=100 and random_state=0.\n",
    "#and train it with train set X3\n",
    "ada = AdaBoostClassifier(n_estimators=100, random_state=0)\n",
    "ada = ada.fit(X3, y_train)"
   ]
  },
  {
   "cell_type": "markdown",
   "metadata": {
    "deletable": false,
    "editable": false,
    "nbgrader": {
     "cell_type": "markdown",
     "checksum": "5206db1c35d6d977278085d9b84cac77",
     "grade": false,
     "grade_id": "cell-68212181b8969e2b",
     "locked": true,
     "schema_version": 3,
     "solution": false,
     "task": false
    }
   },
   "source": [
    "## Simple combination rules"
   ]
  },
  {
   "cell_type": "markdown",
   "metadata": {
    "deletable": false,
    "editable": false,
    "nbgrader": {
     "cell_type": "markdown",
     "checksum": "b17c8fa40fd90c86865834fd9c8c9df2",
     "grade": false,
     "grade_id": "cell-1aaca7f4b9224d2b",
     "locked": true,
     "schema_version": 3,
     "solution": false,
     "task": false
    }
   },
   "source": [
    "<div class=\" alert alert-info\">\n",
    "Below we combine the three trained classifiers by using different simple combinaton rules.\n",
    "</div>"
   ]
  },
  {
   "cell_type": "code",
   "execution_count": 16,
   "metadata": {},
   "outputs": [
    {
     "name": "stdout",
     "output_type": "stream",
     "text": [
      "Majority vote:  6.416666666666667e-01\n",
      "Borda count:  0.6125\n",
      "Prod:  0.7416666666666667\n",
      "Mean:  0.7375\n",
      "Median:  0.675\n",
      "Max:  0.7291666666666666\n",
      "Min:  0.725\n",
      "Weighted majority vote:  0.6916666666666667\n",
      "Weighted mean:  0.7375\n",
      "Belief mean:  0.7208333333333333\n",
      "Classifier 1 0.5875\n",
      "Classifier 2 0.7208333333333333\n",
      "Classifier 3 0.30833333333333335\n"
     ]
    }
   ],
   "source": [
    "from sklearn.metrics import accuracy_score\n",
    "\n",
    "### naive Bayes ###\n",
    "\n",
    "#Predict class label for xtest1.\n",
    "ypred1 = gnb.predict(xtest1)\n",
    "\n",
    "#Calculate the probabilities for the sample to belong to each of three classes. \n",
    "yprob1 = gnb.predict_proba(xtest1)\n",
    "\n",
    "\n",
    "### Support vector machine ###\n",
    "\n",
    "#Predict class label for xtest2.\n",
    "ypred2 = svc.predict(xtest2)\n",
    "\n",
    "#Calculate the probabilities for the sample to belong to each of three classes.\n",
    "yprob2 = svc.predict_proba(xtest2)\n",
    "\n",
    "#Calculate confidence scores for the sample. (The distance from a decision boundary for each class.)\n",
    "ybelief2 = svc.decision_function(xtest2)\n",
    "\n",
    "\n",
    "### AdaBoost ###\n",
    "\n",
    "#Predict class label for xtest3.\n",
    "ypred3 = ada.predict(xtest3)\n",
    "\n",
    "#Calculate the probabilities for the sample to belong to each of three classes.\n",
    "yprob3 = ada.predict_proba(xtest3)\n",
    "\n",
    "#Calculate confidence scores for the sample. (The weighted importance of base classifiers that predict the class in question.)\n",
    "ybelief3 = ada.decision_function(xtest3)\n",
    "\n",
    "#Calculate training accuracies for each classifier.\n",
    "#GaussianNB\n",
    "w1 = gnb.score(X1, y_train)\n",
    "\n",
    "#Support vector classifier\n",
    "w2 = svc.score(X2, y_train)\n",
    "\n",
    "#Adaboost classifier\n",
    "w3 = ada.score(X3, y_train)\n",
    "\n",
    "\n",
    "#Create weight vector according to training accuracies.\n",
    "weights = np.array((w1, w2, w3))\n",
    "\n",
    "#Create labels matrix, in which one is marked according to the predicted label of each classifier.\n",
    "labels = np.zeros((3, np.max(y_train)+1,len(y_test)))\n",
    "for count in range(len(y_test)):\n",
    "    labels[0, ypred1[count],count] = 1\n",
    "    labels[1, ypred2[count],count] = 1\n",
    "    labels[2, ypred3[count],count] = 1\n",
    "\n",
    "\n",
    "#Create posterior scores array\n",
    "posterior_scores = np.array((yprob1, yprob2, yprob3))\n",
    "\n",
    "#Create measurement scores array\n",
    "measurement_scores = np.array((yprob1, ybelief2, ybelief3))\n",
    "\n",
    "#Create rank array of posterior scores.\n",
    "rank = np.argsort(posterior_scores)\n",
    "\n",
    "#Give scores according to rank positions.\n",
    "rank_scores = np.zeros(rank.shape)\n",
    "\n",
    "for classifier in range(3):\n",
    "    for sample in range(len(y_test)):\n",
    "        count = 0\n",
    "        for classes in rank[classifier,sample]:#first class in a row gets the smallest score and last the highest score.\n",
    "            rank_scores[classifier,sample,classes] = count + 1\n",
    "            count +=1\n",
    "            \n",
    "#Weighted labels\n",
    "weighted_labels = np.zeros(labels.shape)\n",
    "for r in range(3):\n",
    "    weighted_labels[r,:,:] = weights[r]*labels[r,:,:]\n",
    "\n",
    "#Weighted posterior_scores\n",
    "weighted_scores = np.zeros(posterior_scores.shape)\n",
    "for r in range(3):\n",
    "    weighted_scores[r,:,:] = weights[r]*posterior_scores[r,:,:]\n",
    "\n",
    "#Calculate different combination metrics. \n",
    "test_acc = accuracy_score(y_test, np.argmax(np.sum(labels, axis=0),axis=0))\n",
    "print('Majority vote: ',test_acc)\n",
    "\n",
    "test_acc = accuracy_score(y_test, np.argmax(np.sum(rank_scores,axis=0),axis=1))\n",
    "print('Borda count: ', test_acc)\n",
    "\n",
    "test_acc =  accuracy_score(y_test, np.argmax(np.prod(posterior_scores,axis=0),axis=1))\n",
    "print('Prod: ', test_acc)\n",
    "\n",
    "test_acc = accuracy_score(y_test, np.argmax(np.mean(posterior_scores, axis=0),axis=1))\n",
    "print('Mean: ', test_acc)\n",
    "\n",
    "test_acc = accuracy_score(y_test, np.argmax(np.median(posterior_scores, axis=0),axis=1))\n",
    "print('Median: ', test_acc)\n",
    "\n",
    "test_acc = accuracy_score(y_test, np.argmax(np.max(posterior_scores, axis=0),axis=1))\n",
    "print('Max: ', test_acc)\n",
    "\n",
    "test_acc = accuracy_score(y_test, np.argmax(np.min(posterior_scores, axis=0),axis=1))\n",
    "print('Min: ', test_acc)\n",
    "\n",
    "test_acc = accuracy_score(y_test, np.argmax(np.sum(weighted_labels, axis=0),axis=0))\n",
    "print('Weighted majority vote: ',test_acc)\n",
    "\n",
    "test_acc = accuracy_score(y_test, np.argmax(np.mean(weighted_scores, axis=0),axis=1))\n",
    "print('Weighted mean: ',test_acc)\n",
    "\n",
    "test_acc = accuracy_score(y_test, np.argmax(np.mean(measurement_scores, axis=0),axis=1))\n",
    "print('Belief mean: ',test_acc)\n",
    "\n",
    "\n",
    "#Individual test accuracies for each classifier:\n",
    "print('Classifier 1', accuracy_score(y_test,ypred1))\n",
    "print('Classifier 2', accuracy_score(y_test,ypred2))\n",
    "print('Classifier 3', accuracy_score(y_test,ypred3))"
   ]
  },
  {
   "cell_type": "markdown",
   "metadata": {
    "deletable": false,
    "editable": false,
    "nbgrader": {
     "cell_type": "markdown",
     "checksum": "b038ab3a51d1a8a9e349cb489f024194",
     "grade": false,
     "grade_id": "cell-2366411f3f3367a8",
     "locked": true,
     "schema_version": 3,
     "solution": false,
     "task": false
    }
   },
   "source": [
    "## Problems"
   ]
  },
  {
   "cell_type": "markdown",
   "metadata": {
    "deletable": false,
    "editable": false,
    "nbgrader": {
     "cell_type": "markdown",
     "checksum": "002e380da991cf55983388508ff1c253",
     "grade": false,
     "grade_id": "cell-ffce2c17e734c846",
     "locked": true,
     "schema_version": 3,
     "solution": false,
     "task": false
    }
   },
   "source": [
    "<div class=\" alert alert-warning\"> \n",
    "    <b>Problem 3.1.</b> \n",
    "\n",
    "Answer to the questions below.\n",
    "    \n",
    "1.Compare the results of different combiners. What reasons may cause the differences between combiners? \n",
    "\n",
    "2.Calculate the Yule's Q for each of the three classifier pairs <p>\n",
    "    <b>Hint:</b> See p. 25 on lecture 7 slides and additional material is available <a href=\"http://machine-learning.martinsewell.com/ensembles/KunchevaWhitaker2003.pdf\">here</a>\n",
    "\n",
    "</div>"
   ]
  },
  {
   "cell_type": "markdown",
   "metadata": {
    "deletable": false,
    "editable": false,
    "nbgrader": {
     "cell_type": "markdown",
     "checksum": "3efa736229f1d1e7c075126345244332",
     "grade": false,
     "grade_id": "cell-0d8d4bac5831b46e",
     "locked": true,
     "schema_version": 3,
     "solution": false,
     "task": false
    }
   },
   "source": [
    "Answer to question 3.1.1 in the cell below"
   ]
  },
  {
   "cell_type": "markdown",
   "metadata": {
    "deletable": false,
    "nbgrader": {
     "cell_type": "markdown",
     "checksum": "bd221617b19c8cf30bf5f68349aa78e6",
     "grade": true,
     "grade_id": "cell-fc31feb4902fc64f",
     "locked": false,
     "points": 0.5,
     "schema_version": 3,
     "solution": true,
     "task": false
    }
   },
   "source": [
    "There are several factors that can cause differences between combiners in ensemble learning:\n",
    "\n",
    "The type of combiner used: Different types of combiners, such as weighted average, majority voting, and stacking, can produce different results depending on the characteristics of the ensemble and the prediction task.\n",
    "\n",
    "The diversity of the ensemble: An ensemble with a diverse set of models is more likely to produce different predictions, which can result in larger differences between combiners.\n",
    "\n",
    "The complexity of the prediction task: More complex prediction tasks may be more susceptible to differences between combiners due to the increased difficulty in making accurate predictions.\n",
    "\n",
    "The quality of the individual models: If the individual models in the ensemble are of low quality, the resulting ensemble may be less accurate, leading to larger differences between combiners.\n",
    "\n",
    "The training data and evaluation metric: The training data and evaluation metric used can also affect the performance of the combiners and the resulting differences between them."
   ]
  },
  {
   "cell_type": "code",
   "execution_count": 17,
   "metadata": {
    "deletable": false,
    "nbgrader": {
     "cell_type": "code",
     "checksum": "67f1be9d07a274369f252947638a233e",
     "grade": false,
     "grade_id": "cell-50e4e99dd2157fd1",
     "locked": false,
     "schema_version": 3,
     "solution": true,
     "task": false
    }
   },
   "outputs": [
    {
     "name": "stdout",
     "output_type": "stream",
     "text": [
      "S1 & S2: 0.1151409220013109\n",
      "S1 & S3: -0.1265164644714038\n",
      "S2 & S3: 0.3034623217922607\n"
     ]
    }
   ],
   "source": [
    "# Implement your code to Problem 3.1.2 here\n",
    "# Give the Yule's Q's in variables q12, q13 and q23\n",
    "# Calculate the diversity to variable q_av\n",
    "\n",
    "# Perform pair-wise comparison for classifiers. \n",
    "\n",
    "# S1 & S2\n",
    "a = np.sum((labels[0,0] == y_test) & (labels[0,1] == y_test), axis = 0)\n",
    "b = np.sum((labels[0,0] == y_test) & (labels[0,1] != y_test), axis = 0)\n",
    "c = np.sum((labels[0,0] != y_test) & (labels[0,1] == y_test), axis = 0)\n",
    "d = np.sum((labels[0,0] != y_test) & (labels[0,1] != y_test), axis = 0)\n",
    "\n",
    "Q = (a*d - b*c) / (a*d + b * c)\n",
    "\n",
    "print('S1 & S2:', Q)\n",
    "\n",
    "# S1 & S3\n",
    "a = np.sum((labels[0,0] == y_test) & (labels[0,2] == y_test), axis = 0)\n",
    "b = np.sum((labels[0,0] == y_test) & (labels[0,2] != y_test), axis = 0)\n",
    "c = np.sum((labels[0,0] != y_test) & (labels[0,2] == y_test), axis = 0)\n",
    "d = np.sum((labels[0,0] != y_test) & (labels[0,2] != y_test), axis = 0)\n",
    "\n",
    "Q = (a*d - b*c) / (a*d + b * c)\n",
    "\n",
    "print('S1 & S3:', Q)\n",
    "\n",
    "# S2 & S3\n",
    "a = np.sum((labels[0,1] == y_test) & (labels[0,2] == y_test), axis = 0)\n",
    "b = np.sum((labels[0,1] == y_test) & (labels[0,2] != y_test), axis = 0)\n",
    "c = np.sum((labels[0,1] != y_test) & (labels[0,2] == y_test), axis = 0)\n",
    "d = np.sum((labels[0,1] != y_test) & (labels[0,2] != y_test), axis = 0)\n",
    "\n",
    "Q = (a*d - b*c) / (a*d + b * c)\n",
    "\n",
    "print('S2 & S3:', Q)"
   ]
  },
  {
   "cell_type": "code",
   "execution_count": 18,
   "metadata": {
    "deletable": false,
    "editable": false,
    "nbgrader": {
     "cell_type": "code",
     "checksum": "873616319ba201517d42b1c9765c8bb1",
     "grade": true,
     "grade_id": "cell-a85dc783fe10bbc8",
     "locked": true,
     "points": 0.5,
     "schema_version": 3,
     "solution": false,
     "task": false
    }
   },
   "outputs": [],
   "source": [
    "# Your points for the Problem 3.1 Yule's Q for classifier 1 and 2 will be given in this cell. Do not modify it."
   ]
  },
  {
   "cell_type": "code",
   "execution_count": 19,
   "metadata": {
    "deletable": false,
    "editable": false,
    "nbgrader": {
     "cell_type": "code",
     "checksum": "432f3f9e14f95ed0e69309ea4c258174",
     "grade": true,
     "grade_id": "cell-defa1af0ec48a1d4",
     "locked": true,
     "points": 0.5,
     "schema_version": 3,
     "solution": false,
     "task": false
    }
   },
   "outputs": [],
   "source": [
    "# Your points for the Problem 3.1 Yule's Q for classifier 1 and 3 will be given in this cell. Do not modify it."
   ]
  },
  {
   "cell_type": "code",
   "execution_count": 20,
   "metadata": {
    "deletable": false,
    "editable": false,
    "nbgrader": {
     "cell_type": "code",
     "checksum": "88354dce05f904d357ffb8514803c26e",
     "grade": true,
     "grade_id": "cell-1a869ccd611d3882",
     "locked": true,
     "points": 0.5,
     "schema_version": 3,
     "solution": false,
     "task": false
    }
   },
   "outputs": [],
   "source": [
    "# Your points for the Problem 3.1 Yule's Q for classifier 2 and 3 will be given in this cell. Do not modify it."
   ]
  },
  {
   "cell_type": "code",
   "execution_count": 21,
   "metadata": {
    "deletable": false,
    "editable": false,
    "nbgrader": {
     "cell_type": "code",
     "checksum": "25667cbd6262a4a32eb0f10945202f37",
     "grade": true,
     "grade_id": "cell-cc103683eb6d8938",
     "locked": true,
     "points": 0.5,
     "schema_version": 3,
     "solution": false,
     "task": false
    }
   },
   "outputs": [],
   "source": [
    "# Your points for the Problem 3.1 average Yule's Q values will be given in this cell. Do not modify it."
   ]
  },
  {
   "cell_type": "markdown",
   "metadata": {
    "deletable": false,
    "editable": false,
    "nbgrader": {
     "cell_type": "markdown",
     "checksum": "0111f0cb076c9a58b2362506866160b9",
     "grade": false,
     "grade_id": "cell-8bcc35350026eae4",
     "locked": true,
     "schema_version": 3,
     "solution": false,
     "task": false
    }
   },
   "source": [
    "## Meta-learners"
   ]
  },
  {
   "cell_type": "markdown",
   "metadata": {
    "deletable": false,
    "editable": false,
    "nbgrader": {
     "cell_type": "markdown",
     "checksum": "3d6ea71c71a8158a51399d1db004616e",
     "grade": false,
     "grade_id": "cell-ec8c7f5ec9564e99",
     "locked": true,
     "schema_version": 3,
     "solution": false,
     "task": false
    }
   },
   "source": [
    "<div class=\" alert alert-warning\"> \n",
    "    <b>Problem 3.2.</b> \n",
    "    \n",
    "\n",
    "Train support vector meta classifier using the same data set and the same base classifiers. What is its accuracy?\n",
    "<b>Use the same test set for testing as in the previous part.</b>\n",
    "</div>"
   ]
  },
  {
   "cell_type": "code",
   "execution_count": 24,
   "metadata": {
    "deletable": false,
    "nbgrader": {
     "cell_type": "code",
     "checksum": "2e4b397d792ec337f37b7ef736178b2e",
     "grade": false,
     "grade_id": "cell-699a466d02ec3eae",
     "locked": false,
     "schema_version": 3,
     "solution": true,
     "task": false
    }
   },
   "outputs": [
    {
     "name": "stdout",
     "output_type": "stream",
     "text": [
      "0.7416666666666667\n"
     ]
    }
   ],
   "source": [
    "#Help:\n",
    "#Here you need three separate data sets.\n",
    "# One for training base classifiers.\n",
    "# Second for creating training set for metaclassifier. (The probabilities of base classifiers' predictions in this new data.)\n",
    "# Third for testing the accuracy in unseen data.\n",
    "\n",
    "#For doing the two first phases, you can use stratified K-fold and the same training set that was created in previous part.\n",
    "#For the last phase, use the same test set as in previous part.\n",
    "\n",
    "#To combine probabilities of the three classifiers in one set you can use command: np.concatenate((xp1, xp3, xp3), axis=1)\n",
    "#Where xp1 = the probabilities of classifier 1, xp2 = the probabilities of classifier 2, etc.\n",
    "\n",
    "### Meta-learning with svm ###\n",
    "from sklearn.model_selection import cross_val_predict\n",
    "#Initialize Support vector classifier without any input parmeters. This will be our Meta-classifier.\n",
    "svc_meta = SVC() \n",
    "\n",
    "#Do K=5 stratified K-fold crossvalidation for training classifier.   \n",
    "skf = StratifiedKFold(5)\n",
    "gnb = GaussianNB()\n",
    "svc = SVC(probability=True)\n",
    "ada = AdaBoostClassifier(n_estimators=100, random_state=0)\n",
    "\n",
    "yprobs1 = [] # Calculate probabilities using gnb model\n",
    "yprobs2 = [] # Calculate probabilities using svc model\n",
    "yprobs3 = [] # Calculate probabilities using adaboost model \n",
    "labels = []\n",
    "\n",
    "for train_index, test_index in skf.split(X_train, y_train):\n",
    "    \n",
    "    #Fit it with X and y.\n",
    "    gnb.fit(X1[train_index],y_train[train_index])\n",
    "    yprobs1.extend(gnb.predict_proba(X1[test_index]))\n",
    "\n",
    "    #Fit it with X and y.\n",
    "    svc.fit(X2[train_index],y_train[train_index])\n",
    "    yprobs2.extend(svc.predict_proba(X2[test_index]))\n",
    "    \n",
    "    #Fit it with X and y.   \n",
    "    ada.fit( X3[train_index],y_train[train_index])\n",
    "    yprobs3.extend(ada.predict_proba(X3[test_index]))\n",
    "    \n",
    "    labels.extend(y_train[test_index])\n",
    "\n",
    "\n",
    "np.random.seed(0) # Do not remove or change!\n",
    "\n",
    "# Predict classes with the meta-classifier\n",
    "probs = np.concatenate((yprobs1, yprobs2, yprobs3), axis = 1)\n",
    "svc_meta.fit(probs,labels)\n",
    "\n",
    "typrobs1 = gnb.predict_proba(xtest1)\n",
    "typrobs2 = svc.predict_proba(xtest2)\n",
    "typrobs3 = ada.predict_proba(xtest3)\n",
    "test_probs = np.concatenate((typrobs1, typrobs2, typrobs3), axis = 1)\n",
    "\n",
    "predClass = svc_meta.predict(test_probs) # Combine probabilities and predict classes with trained svc\n",
    "test_acc = accuracy_score(y_test, predClass) # Calculate accuracy for prediction using combined probabilities\n",
    "print(test_acc)"
   ]
  },
  {
   "cell_type": "code",
   "execution_count": null,
   "metadata": {
    "deletable": false,
    "editable": false,
    "nbgrader": {
     "cell_type": "code",
     "checksum": "f661909c117ebb8529e4f55ef935d754",
     "grade": true,
     "grade_id": "cell-df96e78a0bc5bf04",
     "locked": true,
     "points": 1,
     "schema_version": 3,
     "solution": false,
     "task": false
    }
   },
   "outputs": [],
   "source": [
    "# Your points for the Problem 3.2 test_acc will be given in this cell. Do not modify it."
   ]
  },
  {
   "cell_type": "code",
   "execution_count": null,
   "metadata": {
    "deletable": false,
    "editable": false,
    "nbgrader": {
     "cell_type": "code",
     "checksum": "e3126014ed6d1bd3d9344c83a23fe4c6",
     "grade": true,
     "grade_id": "cell-a5574b996ddeeb97",
     "locked": true,
     "points": 0.5,
     "schema_version": 3,
     "solution": false,
     "task": false
    }
   },
   "outputs": [],
   "source": [
    "# Your points for the Problem 3.2 yprob1 will be given in this cell. Do not modify it."
   ]
  },
  {
   "cell_type": "code",
   "execution_count": null,
   "metadata": {
    "deletable": false,
    "editable": false,
    "nbgrader": {
     "cell_type": "code",
     "checksum": "3d4d30bc87334979c710daf12e17f988",
     "grade": true,
     "grade_id": "cell-347b87751fa0c4f6",
     "locked": true,
     "points": 0.5,
     "schema_version": 3,
     "solution": false,
     "task": false
    }
   },
   "outputs": [],
   "source": [
    "# Your points for the Problem 3.2 yprob2 will be given in this cell. Do not modify it."
   ]
  },
  {
   "cell_type": "code",
   "execution_count": null,
   "metadata": {
    "deletable": false,
    "editable": false,
    "nbgrader": {
     "cell_type": "code",
     "checksum": "b4b726f2c264dff5c0caa81f3a12844c",
     "grade": true,
     "grade_id": "cell-6b8f222c0907d379",
     "locked": true,
     "points": 0.5,
     "schema_version": 3,
     "solution": false,
     "task": false
    }
   },
   "outputs": [],
   "source": [
    "# Your points for the Problem 3.2 yprob3 will be given in this cell. Do not modify it."
   ]
  },
  {
   "cell_type": "code",
   "execution_count": null,
   "metadata": {
    "deletable": false,
    "editable": false,
    "nbgrader": {
     "cell_type": "code",
     "checksum": "08a3a1d26c50725aef27a68269f21a3c",
     "grade": true,
     "grade_id": "cell-f45be6b834b7d04d",
     "locked": true,
     "points": 1,
     "schema_version": 3,
     "solution": false,
     "task": false
    }
   },
   "outputs": [],
   "source": [
    "# Your points for the Problem 3.2 predClass will be given in this cell. Do not modify it."
   ]
  }
 ],
 "metadata": {
  "kernelspec": {
   "display_name": "Python 3 (ipykernel)",
   "language": "python",
   "name": "python3"
  },
  "language_info": {
   "codemirror_mode": {
    "name": "ipython",
    "version": 3
   },
   "file_extension": ".py",
   "mimetype": "text/x-python",
   "name": "python",
   "nbconvert_exporter": "python",
   "pygments_lexer": "ipython3",
   "version": "3.9.12"
  },
  "varInspector": {
   "cols": {
    "lenName": 16,
    "lenType": 16,
    "lenVar": 40
   },
   "kernels_config": {
    "python": {
     "delete_cmd_postfix": "",
     "delete_cmd_prefix": "del ",
     "library": "var_list.py",
     "varRefreshCmd": "print(var_dic_list())"
    },
    "r": {
     "delete_cmd_postfix": ") ",
     "delete_cmd_prefix": "rm(",
     "library": "var_list.r",
     "varRefreshCmd": "cat(var_dic_list()) "
    }
   },
   "types_to_exclude": [
    "module",
    "function",
    "builtin_function_or_method",
    "instance",
    "_Feature"
   ],
   "window_display": false
  }
 },
 "nbformat": 4,
 "nbformat_minor": 4
}
